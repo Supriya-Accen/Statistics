{
 "cells": [
  {
   "cell_type": "code",
   "execution_count": 3,
   "metadata": {},
   "outputs": [],
   "source": [
    "#Statistics\n",
    "#Measures of central tendency\n",
    "#data downloaded from kaggle; list of athletes\n",
    "import pandas as pd"
   ]
  },
  {
   "cell_type": "code",
   "execution_count": 16,
   "metadata": {
    "scrolled": true
   },
   "outputs": [
    {
     "name": "stdout",
     "output_type": "stream",
     "text": [
      "          id            name nationality     sex       dob  height  weight  \\\n",
      "0  736041664  A Jesus Garcia         ESP    male  10/17/69    1.72    64.0   \n",
      "1  532037425      A Lam Shin         KOR  female   9/23/86    1.68    56.0   \n",
      "2  435962603     Aaron Brown         CAN    male   5/27/92    1.98    79.0   \n",
      "3  521041435      Aaron Cook         MDA    male    1/2/91    1.83    80.0   \n",
      "4   33922579      Aaron Gate         NZL    male  11/26/90    1.81    71.0   \n",
      "\n",
      "       sport  gold  silver  bronze  \n",
      "0  athletics     0       0       0  \n",
      "1    fencing     0       0       0  \n",
      "2  athletics     0       0       1  \n",
      "3  taekwondo     0       0       0  \n",
      "4    cycling     0       0       0  \n"
     ]
    }
   ],
   "source": [
    "df=pd.read_csv(r\"C:\\Users\\91808\\Downloads\\olympic-games\\athletes.csv\") \n",
    "print(df.head())\n",
    "dummy=pd.read_csv(r\"C:\\Users\\91808\\Downloads\\olympic-games\\athletes.csv\") "
   ]
  },
  {
   "cell_type": "code",
   "execution_count": 5,
   "metadata": {},
   "outputs": [
    {
     "data": {
      "text/plain": [
       "(11538, 11)"
      ]
     },
     "execution_count": 5,
     "metadata": {},
     "output_type": "execute_result"
    }
   ],
   "source": [
    "df.shape"
   ]
  },
  {
   "cell_type": "code",
   "execution_count": 6,
   "metadata": {},
   "outputs": [
    {
     "data": {
      "text/plain": [
       "array([0, 1, 2, 3, 4, 5], dtype=int64)"
      ]
     },
     "execution_count": 6,
     "metadata": {},
     "output_type": "execute_result"
    }
   ],
   "source": [
    "df['gold'].unique()"
   ]
  },
  {
   "cell_type": "code",
   "execution_count": 7,
   "metadata": {},
   "outputs": [
    {
     "name": "stderr",
     "output_type": "stream",
     "text": [
      "C:\\Users\\91808\\AppData\\Local\\Continuum\\anaconda3\\lib\\site-packages\\numpy\\lib\\histograms.py:754: RuntimeWarning: invalid value encountered in greater_equal\n",
      "  keep = (tmp_a >= first_edge)\n",
      "C:\\Users\\91808\\AppData\\Local\\Continuum\\anaconda3\\lib\\site-packages\\numpy\\lib\\histograms.py:755: RuntimeWarning: invalid value encountered in less_equal\n",
      "  keep &= (tmp_a <= last_edge)\n"
     ]
    },
    {
     "data": {
      "text/plain": [
       "<Figure size 640x480 with 1 Axes>"
      ]
     },
     "metadata": {},
     "output_type": "display_data"
    }
   ],
   "source": [
    "import matplotlib.pyplot as plt\n",
    "\n",
    "plt.hist(df['height'])\n",
    "plt.show()\n"
   ]
  },
  {
   "cell_type": "code",
   "execution_count": 8,
   "metadata": {},
   "outputs": [
    {
     "data": {
      "image/png": "[encoded data removed]",
      "text/plain": [
       "<Figure size 432x288 with 1 Axes>"
      ]
     },
     "metadata": {
      "needs_background": "light"
     },
     "output_type": "display_data"
    }
   ],
   "source": [
    "plt.scatter(x=df['height'],y=df['weight']) #scatter plot needs x and y axis both\n",
    "plt.show()"
   ]
  },
  {
   "cell_type": "code",
   "execution_count": 9,
   "metadata": {
    "scrolled": false
   },
   "outputs": [
    {
     "name": "stdout",
     "output_type": "stream",
     "text": [
      "male      6333\n",
      "female    5205\n",
      "Name: sex, dtype: int64\n"
     ]
    },
    {
     "data": {
      "image/png": "[encoded data removed]",
      "text/plain": [
       "<Figure size 432x288 with 1 Axes>"
      ]
     },
     "metadata": {},
     "output_type": "display_data"
    }
   ],
   "source": [
    "a=df['sex'].value_counts() #Pie plot; essentially need a float/int value; cant work with string eg. male/female\n",
    "print(a)\n",
    "plt.pie(a)\n",
    "plt.show()"
   ]
  },
  {
   "cell_type": "code",
   "execution_count": 10,
   "metadata": {},
   "outputs": [],
   "source": [
    "#https://medium.com/@JLMC/understanding-three-simple-statistics-for-data-visualizations-2619dbb3677a"
   ]
  },
  {
   "cell_type": "code",
   "execution_count": 11,
   "metadata": {},
   "outputs": [
    {
     "name": "stdout",
     "output_type": "stream",
     "text": [
      "72.06820479823513\n",
      "1.7662821199143461\n"
     ]
    }
   ],
   "source": [
    "#mean essentially calculates arithmetic mean of the series\n",
    "#to calculate GM and HM we have to use the formula\n",
    "\n",
    "print(df['weight'].mean())\n",
    "print(df['height'].mean()) #works well in non-skewd cont. data"
   ]
  },
  {
   "cell_type": "code",
   "execution_count": 12,
   "metadata": {},
   "outputs": [],
   "source": [
    "#mediAN: he median can be used to determine an approximate average, or mean.\n",
    "#The median is sometimes used as opposed to the mean when there are outliers in the sequence that might skew the average of the values. \n",
    "#The median of a sequence can be less affected by outliers than the mean."
   ]
  },
  {
   "cell_type": "code",
   "execution_count": 11,
   "metadata": {
    "scrolled": true
   },
   "outputs": [
    {
     "name": "stdout",
     "output_type": "stream",
     "text": [
      "70.0\n"
     ]
    }
   ],
   "source": [
    "print(df['weight'].median()) #works well in skewed data or ordinal categoricl data"
   ]
  },
  {
   "cell_type": "code",
   "execution_count": 12,
   "metadata": {},
   "outputs": [],
   "source": [
    "#median- median may prove as a good measure of central tendency depending on data and applicatn\n",
    "#Since they dont consider any data except the middle element we can say that data is not utlilized properly,which matters when \n",
    "#data is small, also coz of it its robust; i.e. doesnt change much with outlier howevr outlier is not sumthng which is alwaya\n",
    "#not good ********Applicatn based\n",
    "#On other hand arithmetic mean considers eacn element of data(advnatge of arithmetic mean) but doesnt works when data is skewd\n",
    "#Geometric mean adv:\n",
    "#Outliers:While arithmetic is extremely sensitive to outlier and median is negligbly sensitive, geometric fall sumwhere in betwn\n",
    "#Uneveness in data is captured more precisely in GM\n",
    "#Do consider zero elements when u go for GM(either replace or delete)"
   ]
  },
  {
   "cell_type": "code",
   "execution_count": 10,
   "metadata": {},
   "outputs": [
    {
     "name": "stdout",
     "output_type": "stream",
     "text": [
      "0    70.0\n",
      "dtype: float64\n"
     ]
    }
   ],
   "source": [
    "print(df['weight'].mode()) #works well in nominal categorical data"
   ]
  },
  {
   "cell_type": "code",
   "execution_count": 27,
   "metadata": {},
   "outputs": [
    {
     "name": "stderr",
     "output_type": "stream",
     "text": [
      "C:\\Users\\91808\\AppData\\Local\\Continuum\\anaconda3\\lib\\site-packages\\numpy\\lib\\histograms.py:754: RuntimeWarning: invalid value encountered in greater_equal\n",
      "  keep = (tmp_a >= first_edge)\n",
      "C:\\Users\\91808\\AppData\\Local\\Continuum\\anaconda3\\lib\\site-packages\\numpy\\lib\\histograms.py:755: RuntimeWarning: invalid value encountered in less_equal\n",
      "  keep &= (tmp_a <= last_edge)\n"
     ]
    },
    {
     "data": {
      "text/plain": [
       "(array([  78., 2135., 3981., 2879., 1287.,  307.,  133.,   52.,   18.,\n",
       "           9.]),\n",
       " array([ 31. ,  44.9,  58.8,  72.7,  86.6, 100.5, 114.4, 128.3, 142.2,\n",
       "        156.1, 170. ]),\n",
       " <a list of 10 Patch objects>)"
      ]
     },
     "execution_count": 27,
     "metadata": {},
     "output_type": "execute_result"
    },
    {
     "data": {
      "image/png": "[encoded data removed]",
      "text/plain": [
       "<Figure size 432x288 with 1 Axes>"
      ]
     },
     "metadata": {
      "needs_background": "light"
     },
     "output_type": "display_data"
    }
   ],
   "source": [
    "plt.hist(df['weight'],bins=10)"
   ]
  },
  {
   "cell_type": "code",
   "execution_count": null,
   "metadata": {},
   "outputs": [],
   "source": [
    "#Measures of Dispersion\n",
    "\n",
    "#Range,MAD"
   ]
  },
  {
   "cell_type": "code",
   "execution_count": 15,
   "metadata": {},
   "outputs": [
    {
     "data": {
      "text/plain": [
       "139.0"
      ]
     },
     "execution_count": 15,
     "metadata": {},
     "output_type": "execute_result"
    }
   ],
   "source": [
    "#Range\n",
    "max=df['weight'].max()\n",
    "min=df['weight'].min()\n",
    "range=max-min\n",
    "range"
   ]
  },
  {
   "cell_type": "code",
   "execution_count": 25,
   "metadata": {},
   "outputs": [
    {
     "data": {
      "text/plain": [
       "12.481011217992567"
      ]
     },
     "execution_count": 25,
     "metadata": {},
     "output_type": "execute_result"
    }
   ],
   "source": [
    "#Mean Absolute Deviation\n",
    "#Python has inbuilt mad function\n",
    "#MAD is robust in nature i.e. doesnt gets impacted much by outliers\n",
    "mad=df['weight'].mad()\n",
    "mad"
   ]
  },
  {
   "cell_type": "code",
   "execution_count": 26,
   "metadata": {},
   "outputs": [
    {
     "data": {
      "text/plain": [
       "0.09091141594333724"
      ]
     },
     "execution_count": 26,
     "metadata": {},
     "output_type": "execute_result"
    }
   ],
   "source": [
    "mad1=df['height'].mad()\n",
    "mad1"
   ]
  },
  {
   "cell_type": "code",
   "execution_count": 16,
   "metadata": {},
   "outputs": [
    {
     "name": "stdout",
     "output_type": "stream",
     "text": [
      "16.176590617887577\n",
      "72.06820479823513\n"
     ]
    }
   ],
   "source": [
    "\n",
    "std1=df['weight'].std(ddof=0) #ddof=1 bydefault which denotes N-1(Sample std dev) since we are considering entire population,ddof=0\n",
    "print(std1)\n",
    "mean1=df['weight'].mean()\n",
    "print(mean1)"
   ]
  },
  {
   "cell_type": "code",
   "execution_count": 17,
   "metadata": {},
   "outputs": [
    {
     "data": {
      "text/plain": [
       "261.68208401872835"
      ]
     },
     "execution_count": 17,
     "metadata": {},
     "output_type": "execute_result"
    }
   ],
   "source": [
    "var=df['weight'].var(ddof=0)\n",
    "var"
   ]
  },
  {
   "cell_type": "code",
   "execution_count": 18,
   "metadata": {},
   "outputs": [
    {
     "name": "stdout",
     "output_type": "stream",
     "text": [
      "16.176590617887577\n"
     ]
    }
   ],
   "source": [
    "print(var**0.5) #matched with std var"
   ]
  },
  {
   "cell_type": "code",
   "execution_count": 19,
   "metadata": {},
   "outputs": [],
   "source": [
    "std2=df['height'].std() #std1,std dev of weight is 16.17 kg and that of height is 0.112 cm hence we cannot compare variation\n",
    "#of both variables hence the coefficient of variation\n",
    "var2=df['height'].var()\n",
    "mean2=df['height'].mean()"
   ]
  },
  {
   "cell_type": "code",
   "execution_count": 20,
   "metadata": {},
   "outputs": [
    {
     "name": "stdout",
     "output_type": "stream",
     "text": [
      "0.11271869117624643\n",
      "1.7662821199143461\n"
     ]
    }
   ],
   "source": [
    "print(std2)\n",
    "print(mean2)"
   ]
  },
  {
   "cell_type": "code",
   "execution_count": 21,
   "metadata": {},
   "outputs": [
    {
     "data": {
      "text/plain": [
       "22.446223911329792"
      ]
     },
     "execution_count": 21,
     "metadata": {},
     "output_type": "execute_result"
    }
   ],
   "source": [
    "cov1=std1/mean1*100 #coeffiecient of variation of weight\n",
    "cov1"
   ]
  },
  {
   "cell_type": "code",
   "execution_count": 23,
   "metadata": {},
   "outputs": [
    {
     "data": {
      "text/plain": [
       "6.381692364168448"
      ]
     },
     "execution_count": 23,
     "metadata": {},
     "output_type": "execute_result"
    }
   ],
   "source": [
    "cov2=std2/mean2*100 #coefficient of variation of height\n",
    "cov2"
   ]
  },
  {
   "cell_type": "code",
   "execution_count": null,
   "metadata": {},
   "outputs": [],
   "source": [
    "#on comparing we can see that varaition in weight is more as compared to variation in height"
   ]
  },
  {
   "cell_type": "code",
   "execution_count": null,
   "metadata": {},
   "outputs": [],
   "source": [
    "#great explnantn ohttps://www.wellbeingatschool.org.nz/information-sheet/understanding-and-interpreting-box-plotsf box plots-\n",
    "#https://www.wellbeingatschool.org.nz/information-sheet/understanding-and-interpreting-box-plots\n",
    "#https://towardsdatascience.com/understanding-boxplots-5e2df7bcbd51"
   ]
  },
  {
   "cell_type": "code",
   "execution_count": null,
   "metadata": {},
   "outputs": [],
   "source": [
    "#A boxplot is used below to analyze the relationship between a categorical feature(eg yes or no)\n",
    "#and a continuous feature (area_mean).\n",
    "\n",
    "#relatn between boxplot and prob distributn functn to be studied in probab.\n",
    "\n",
    "#There are a couple ways to graph a boxplot through Python. You can graph a boxplot through seaborn, pandas\n",
    "\n",
    "\n"
   ]
  },
  {
   "cell_type": "code",
   "execution_count": 57,
   "metadata": {
    "scrolled": true
   },
   "outputs": [
    {
     "data": {
      "text/plain": [
       "Text(0.5, 1.0, '')"
      ]
     },
     "execution_count": 57,
     "metadata": {},
     "output_type": "execute_result"
    },
    {
     "data": {
      "image/png": "[encoded data removed]",
      "text/plain": [
       "<Figure size 432x288 with 1 Axes>"
      ]
     },
     "metadata": {
      "needs_background": "light"
     },
     "output_type": "display_data"
    }
   ],
   "source": [
    "df.boxplot(column = 'weight', by = 'gold'); #no of golds won is 0 to 5; it gives comparison of golds won as pr weight\n",
    "plt.title('')\n"
   ]
  },
  {
   "cell_type": "code",
   "execution_count": 32,
   "metadata": {},
   "outputs": [
    {
     "data": {
      "text/plain": [
       "0    10919\n",
       "1      584\n",
       "2       27\n",
       "3        5\n",
       "4        2\n",
       "5        1\n",
       "Name: gold, dtype: int64"
      ]
     },
     "execution_count": 32,
     "metadata": {},
     "output_type": "execute_result"
    }
   ],
   "source": [
    "df['gold'].value_counts()"
   ]
  },
  {
   "cell_type": "code",
   "execution_count": 42,
   "metadata": {},
   "outputs": [
    {
     "data": {
      "text/plain": [
       "<matplotlib.collections.PathCollection at 0x15e998054a8>"
      ]
     },
     "execution_count": 42,
     "metadata": {},
     "output_type": "execute_result"
    },
    {
     "data": {
      "image/png": "[encoded data removed]",
      "text/plain": [
       "<Figure size 432x288 with 1 Axes>"
      ]
     },
     "metadata": {
      "needs_background": "light"
     },
     "output_type": "display_data"
    }
   ],
   "source": [
    "plt.scatter(x=df['weight'],y=df['gold'])"
   ]
  },
  {
   "cell_type": "code",
   "execution_count": 56,
   "metadata": {},
   "outputs": [
    {
     "name": "stdout",
     "output_type": "stream",
     "text": [
      "21.0\n"
     ]
    }
   ],
   "source": [
    "q1=df['weight'].quantile(q=0.25)\n",
    "q3=df['weight'].quantile(q=0.75)\n",
    "print(q3-q1) #interquantile range"
   ]
  },
  {
   "cell_type": "code",
   "execution_count": null,
   "metadata": {},
   "outputs": [],
   "source": [
    "#Covariance and Correlation\n",
    "#https://www.linkedin.com/pulse/covariance-vs-correlation-kumar-p\n",
    "#https://www.wallstreetmojo.com/correlation-vs-covariance/\n",
    "\n"
   ]
  },
  {
   "cell_type": "code",
   "execution_count": 26,
   "metadata": {},
   "outputs": [
    {
     "name": "stdout",
     "output_type": "stream",
     "text": [
      "1.3876295839618886\n"
     ]
    },
    {
     "data": {
      "text/html": [
       "<div>\n",
       "<style scoped>\n",
       "    .dataframe tbody tr th:only-of-type {\n",
       "        vertical-align: middle;\n",
       "    }\n",
       "\n",
       "    .dataframe tbody tr th {\n",
       "        vertical-align: top;\n",
       "    }\n",
       "\n",
       "    .dataframe thead th {\n",
       "        text-align: right;\n",
       "    }\n",
       "</style>\n",
       "<table border=\"1\" class=\"dataframe\">\n",
       "  <thead>\n",
       "    <tr style=\"text-align: right;\">\n",
       "      <th></th>\n",
       "      <th>weight</th>\n",
       "      <th>height</th>\n",
       "    </tr>\n",
       "  </thead>\n",
       "  <tbody>\n",
       "    <tr>\n",
       "      <th>weight</th>\n",
       "      <td>261.70614</td>\n",
       "      <td>1.387630</td>\n",
       "    </tr>\n",
       "    <tr>\n",
       "      <th>height</th>\n",
       "      <td>1.38763</td>\n",
       "      <td>0.012706</td>\n",
       "    </tr>\n",
       "  </tbody>\n",
       "</table>\n",
       "</div>"
      ],
      "text/plain": [
       "           weight    height\n",
       "weight  261.70614  1.387630\n",
       "height    1.38763  0.012706"
      ]
     },
     "execution_count": 26,
     "metadata": {},
     "output_type": "execute_result"
    }
   ],
   "source": [
    "cov=df['weight'].cov(df['height'])\n",
    "print(cov)\n",
    "\n",
    "#The issue with covariance is that it requires both variables to be measured on the same scale to get some \n",
    "#meaning, i.e. covariance is not standardized and it’s interpretation is scale dependent. \n",
    "#One cannot easily compare different covariance measurements unless the variables are all on the same scale. \n",
    "#This is were correlation comes in.\n",
    "\n",
    "#doesnt work on categorical data.\n",
    "\n",
    "cov2=df[['weight','height']].cov() #this gives covariance mtrix\n",
    "cov2"
   ]
  },
  {
   "cell_type": "code",
   "execution_count": 25,
   "metadata": {
    "scrolled": false
   },
   "outputs": [
    {
     "data": {
      "text/html": [
       "<div>\n",
       "<style scoped>\n",
       "    .dataframe tbody tr th:only-of-type {\n",
       "        vertical-align: middle;\n",
       "    }\n",
       "\n",
       "    .dataframe tbody tr th {\n",
       "        vertical-align: top;\n",
       "    }\n",
       "\n",
       "    .dataframe thead th {\n",
       "        text-align: right;\n",
       "    }\n",
       "</style>\n",
       "<table border=\"1\" class=\"dataframe\">\n",
       "  <thead>\n",
       "    <tr style=\"text-align: right;\">\n",
       "      <th></th>\n",
       "      <th>weight</th>\n",
       "      <th>height</th>\n",
       "      <th>bronze</th>\n",
       "      <th>gold</th>\n",
       "      <th>silver</th>\n",
       "    </tr>\n",
       "  </thead>\n",
       "  <tbody>\n",
       "    <tr>\n",
       "      <th>weight</th>\n",
       "      <td>1.000000</td>\n",
       "      <td>0.759037</td>\n",
       "      <td>0.026113</td>\n",
       "      <td>0.035854</td>\n",
       "      <td>0.030944</td>\n",
       "    </tr>\n",
       "    <tr>\n",
       "      <th>height</th>\n",
       "      <td>0.759037</td>\n",
       "      <td>1.000000</td>\n",
       "      <td>0.020865</td>\n",
       "      <td>0.049285</td>\n",
       "      <td>0.041002</td>\n",
       "    </tr>\n",
       "    <tr>\n",
       "      <th>bronze</th>\n",
       "      <td>0.026113</td>\n",
       "      <td>0.020865</td>\n",
       "      <td>1.000000</td>\n",
       "      <td>0.004682</td>\n",
       "      <td>-0.014844</td>\n",
       "    </tr>\n",
       "    <tr>\n",
       "      <th>gold</th>\n",
       "      <td>0.035854</td>\n",
       "      <td>0.049285</td>\n",
       "      <td>0.004682</td>\n",
       "      <td>1.000000</td>\n",
       "      <td>0.024349</td>\n",
       "    </tr>\n",
       "    <tr>\n",
       "      <th>silver</th>\n",
       "      <td>0.030944</td>\n",
       "      <td>0.041002</td>\n",
       "      <td>-0.014844</td>\n",
       "      <td>0.024349</td>\n",
       "      <td>1.000000</td>\n",
       "    </tr>\n",
       "  </tbody>\n",
       "</table>\n",
       "</div>"
      ],
      "text/plain": [
       "          weight    height    bronze      gold    silver\n",
       "weight  1.000000  0.759037  0.026113  0.035854  0.030944\n",
       "height  0.759037  1.000000  0.020865  0.049285  0.041002\n",
       "bronze  0.026113  0.020865  1.000000  0.004682 -0.014844\n",
       "gold    0.035854  0.049285  0.004682  1.000000  0.024349\n",
       "silver  0.030944  0.041002 -0.014844  0.024349  1.000000"
      ]
     },
     "execution_count": 25,
     "metadata": {},
     "output_type": "execute_result"
    }
   ],
   "source": [
    "cor=df[['weight','height','bronze','gold','silver']].corr() #works on multiple inputs\n",
    "cor\n",
    "#try plotting the graph next tym\n"
   ]
  },
  {
   "cell_type": "code",
   "execution_count": null,
   "metadata": {},
   "outputs": [],
   "source": [
    "#skewness and kurtosis\n",
    "#https://codeburst.io/2-important-statistics-terms-you-need-to-know-in-data-science-skewness-and-kurtosis-388fef94eeaa"
   ]
  },
  {
   "cell_type": "code",
   "execution_count": 28,
   "metadata": {},
   "outputs": [
    {
     "data": {
      "text/plain": [
       "-0.025342036211864816"
      ]
     },
     "execution_count": 28,
     "metadata": {},
     "output_type": "execute_result"
    }
   ],
   "source": [
    "df['height'].kurtosis() #-ve indicates less outliers"
   ]
  },
  {
   "cell_type": "code",
   "execution_count": 29,
   "metadata": {},
   "outputs": [
    {
     "data": {
      "text/plain": [
       "0.1714716351066293"
      ]
     },
     "execution_count": 29,
     "metadata": {},
     "output_type": "execute_result"
    }
   ],
   "source": [
    "df['height'].skew() #since height gives a normal distributn on getting ploted, skew is near to 0"
   ]
  },
  {
   "cell_type": "code",
   "execution_count": 30,
   "metadata": {},
   "outputs": [
    {
     "name": "stderr",
     "output_type": "stream",
     "text": [
      "C:\\Users\\91808\\AppData\\Local\\Continuum\\anaconda3\\lib\\site-packages\\numpy\\lib\\histograms.py:754: RuntimeWarning: invalid value encountered in greater_equal\n",
      "  keep = (tmp_a >= first_edge)\n",
      "C:\\Users\\91808\\AppData\\Local\\Continuum\\anaconda3\\lib\\site-packages\\numpy\\lib\\histograms.py:755: RuntimeWarning: invalid value encountered in less_equal\n",
      "  keep &= (tmp_a <= last_edge)\n"
     ]
    },
    {
     "data": {
      "text/plain": [
       "(array([1.000e+00, 7.000e+00, 6.000e+01, 7.330e+02, 2.797e+03, 3.681e+03,\n",
       "        2.821e+03, 8.810e+02, 2.100e+02, 1.700e+01]),\n",
       " array([1.21, 1.31, 1.41, 1.51, 1.61, 1.71, 1.81, 1.91, 2.01, 2.11, 2.21]),\n",
       " <a list of 10 Patch objects>)"
      ]
     },
     "execution_count": 30,
     "metadata": {},
     "output_type": "execute_result"
    },
    {
     "data": {
      "image/png": "[encoded data removed]",
      "text/plain": [
       "<Figure size 432x288 with 1 Axes>"
      ]
     },
     "metadata": {
      "needs_background": "light"
     },
     "output_type": "display_data"
    }
   ],
   "source": [
    "plt.hist(df['height'])"
   ]
  },
  {
   "cell_type": "code",
   "execution_count": null,
   "metadata": {},
   "outputs": [],
   "source": []
  }
 ],
 "metadata": {
  "kernelspec": {
   "display_name": "Python 3",
   "language": "python",
   "name": "python3"
  },
  "language_info": {
   "codemirror_mode": {
    "name": "ipython",
    "version": 3
   },
   "file_extension": ".py",
   "mimetype": "text/x-python",
   "name": "python",
   "nbconvert_exporter": "python",
   "pygments_lexer": "ipython3",
   "version": "3.7.1"
  }
 },
 "nbformat": 4,
 "nbformat_minor": 2
}
